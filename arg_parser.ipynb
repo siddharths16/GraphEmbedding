{
 "cells": [
  {
   "cell_type": "code",
   "execution_count": 11,
   "metadata": {},
   "outputs": [],
   "source": [
    "import argparse"
   ]
  },
  {
   "cell_type": "code",
   "execution_count": 38,
   "metadata": {},
   "outputs": [],
   "source": [
    "def arg_parser():\n",
    "    \n",
    "    '''\n",
    "    For parsing the command line arguments.\n",
    "    '''\n",
    "    parser = argparse.ArgumentParser(description='Run GraphEmbedding')\n",
    "    \n",
    "    parser.add_argument('--graph', default='graph/karate.edgelist', nargs='?', type=str, \\\n",
    "                        required=True, help='Path to input graph')\n",
    "    \n",
    "    parser.add_argument('--dimensions', default=10, type=int, \\\n",
    "                required=True, help='Number of embedding dimensions. Default is 10')\n",
    "    \n",
    "    parser.add_argument('--clusters', default=2, type=int, \\\n",
    "                        required=True, help='Number of clusters. Default is 2')\n",
    "    \n",
    "    parser.add_argument('--walk-length', default=50, type=int, \\\n",
    "                         help='length of sequences i.e. random walk length for every node.')\n",
    "\n",
    "    parser.add_argument('--window-size', default=5, type=int, \\\n",
    "                         help='Window size')\n",
    "    \n",
    "    parser.add_argument('--gamma', default=0.1, type=float, \\\n",
    "                         help='Initial clustering weight coefficient. Default is 0.1')\n",
    "    \n",
    "    parser.add_argument('--initial-learning-rate', default=0.01, type=float, \\\n",
    "                         help='Initial learning rate. Default is 0.01')\n",
    "    \n",
    "    parser.add_argument('--final-learning-rate', default=0.001, type=float, \\\n",
    "                         help='Final learning rate. Default is 0.001')\n",
    "    \n",
    "    parser.add_argument(\"--annealing-factor\", type=float, default=1, \\\n",
    "                         help=\"Annealing factor. Default is 1.0.\")\n",
    "    \n",
    "    return parser"
   ]
  },
  {
   "cell_type": "code",
   "execution_count": 41,
   "metadata": {},
   "outputs": [],
   "source": [
    "#parser = arg_parser()\n",
    "#parser.parse_args(['--graph', 'mypath'])"
   ]
  },
  {
   "cell_type": "code",
   "execution_count": null,
   "metadata": {},
   "outputs": [],
   "source": []
  }
 ],
 "metadata": {
  "kernelspec": {
   "display_name": "Python 3",
   "language": "python",
   "name": "python3"
  },
  "language_info": {
   "codemirror_mode": {
    "name": "ipython",
    "version": 3
   },
   "file_extension": ".py",
   "mimetype": "text/x-python",
   "name": "python",
   "nbconvert_exporter": "python",
   "pygments_lexer": "ipython3",
   "version": "3.7.3"
  }
 },
 "nbformat": 4,
 "nbformat_minor": 2
}
