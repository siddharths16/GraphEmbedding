{
 "cells": [
  {
   "cell_type": "code",
   "execution_count": 89,
   "metadata": {},
   "outputs": [],
   "source": [
    "import random\n",
    "import networkx as nx \n",
    "import matplotlib.pyplot as plt"
   ]
  },
  {
   "cell_type": "code",
   "execution_count": 91,
   "metadata": {},
   "outputs": [],
   "source": [
    "class RandomWalker():\n",
    "    '''\n",
    "    Randomwalker class generetes the vertex sequence which are visited during the random walk\n",
    "    from every node in every interation. These vertex sequences are then handed over to skip-gram \n",
    "    model to learn the graph embedding.\n",
    "    '''\n",
    "    def first_order_random_walk():\n",
    "        pass"
   ]
  },
  {
   "cell_type": "code",
   "execution_count": 190,
   "metadata": {},
   "outputs": [],
   "source": [
    "def read_graph(gFile, g_format):\n",
    "    '''\n",
    "    Reads the input graph in networkx\n",
    "    gFile: Path to the graph\n",
    "    g_format: Format of the graph. Check networkx graph types.\n",
    "    '''\n",
    "    \n",
    "    if (g_format == \"edgelist\"):\n",
    "        Graph = nx.read_weighted_edgelist(gFile, nodetype=int)\n",
    "        return Graph\n",
    "    else: \n",
    "        print(\"%s Format not supported\" %format)\n",
    "        return\n",
    "        \n",
    "    return\n",
    "\n",
    "def draw_graph(graph):\n",
    "    nx.draw(graph, with_labels=True)\n",
    "    pass\n"
   ]
  },
  {
   "cell_type": "code",
   "execution_count": 191,
   "metadata": {},
   "outputs": [
    {
     "name": "stdout",
     "output_type": "stream",
     "text": [
      "<built-in function format> Format not supported\n"
     ]
    }
   ],
   "source": [
    "graphFile = \"./graph/karate.edgelist\"\n",
    "karate_graph = read_graph(graphFile, \"edgelis\")\n",
    "draw_graph(karate_graph)"
   ]
  },
  {
   "cell_type": "code",
   "execution_count": null,
   "metadata": {},
   "outputs": [],
   "source": []
  }
 ],
 "metadata": {
  "kernelspec": {
   "display_name": "Python 3",
   "language": "python",
   "name": "python3"
  },
  "language_info": {
   "codemirror_mode": {
    "name": "ipython",
    "version": 3
   },
   "file_extension": ".py",
   "mimetype": "text/x-python",
   "name": "python",
   "nbconvert_exporter": "python",
   "pygments_lexer": "ipython3",
   "version": "3.6.8"
  }
 },
 "nbformat": 4,
 "nbformat_minor": 2
}
